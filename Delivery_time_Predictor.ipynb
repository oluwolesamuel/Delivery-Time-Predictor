{
 "cells": [
  {
   "cell_type": "code",
   "execution_count": 1,
   "id": "e5a0de25",
   "metadata": {},
   "outputs": [],
   "source": [
    "##required libraries\n",
    "\n",
    "import pandas as pd\n",
    "import numpy as np\n",
    "import math as mt\n",
    "import seaborn as sb\n",
    "import matplotlib.pyplot as plt\n",
    "\n"
   ]
  },
  {
   "cell_type": "code",
   "execution_count": 2,
   "id": "45288b55",
   "metadata": {},
   "outputs": [
    {
     "data": {
      "text/html": [
       "<div>\n",
       "<style scoped>\n",
       "    .dataframe tbody tr th:only-of-type {\n",
       "        vertical-align: middle;\n",
       "    }\n",
       "\n",
       "    .dataframe tbody tr th {\n",
       "        vertical-align: top;\n",
       "    }\n",
       "\n",
       "    .dataframe thead th {\n",
       "        text-align: right;\n",
       "    }\n",
       "</style>\n",
       "<table border=\"1\" class=\"dataframe\">\n",
       "  <thead>\n",
       "    <tr style=\"text-align: right;\">\n",
       "      <th></th>\n",
       "      <th>ID</th>\n",
       "      <th>Delivery_person_ID</th>\n",
       "      <th>Delivery_person_Age</th>\n",
       "      <th>Delivery_person_Ratings</th>\n",
       "      <th>Restaurant_latitude</th>\n",
       "      <th>Restaurant_longitude</th>\n",
       "      <th>Delivery_location_latitude</th>\n",
       "      <th>Delivery_location_longitude</th>\n",
       "      <th>Type_of_order</th>\n",
       "      <th>Type_of_vehicle</th>\n",
       "      <th>Time_taken(min)</th>\n",
       "    </tr>\n",
       "  </thead>\n",
       "  <tbody>\n",
       "    <tr>\n",
       "      <th>0</th>\n",
       "      <td>4607</td>\n",
       "      <td>INDORES13DEL02</td>\n",
       "      <td>37</td>\n",
       "      <td>4.9</td>\n",
       "      <td>22.745049</td>\n",
       "      <td>75.892471</td>\n",
       "      <td>22.765049</td>\n",
       "      <td>75.912471</td>\n",
       "      <td>Snack</td>\n",
       "      <td>motorcycle</td>\n",
       "      <td>24</td>\n",
       "    </tr>\n",
       "    <tr>\n",
       "      <th>1</th>\n",
       "      <td>B379</td>\n",
       "      <td>BANGRES18DEL02</td>\n",
       "      <td>34</td>\n",
       "      <td>4.5</td>\n",
       "      <td>12.913041</td>\n",
       "      <td>77.683237</td>\n",
       "      <td>13.043041</td>\n",
       "      <td>77.813237</td>\n",
       "      <td>Snack</td>\n",
       "      <td>scooter</td>\n",
       "      <td>33</td>\n",
       "    </tr>\n",
       "    <tr>\n",
       "      <th>2</th>\n",
       "      <td>5D6D</td>\n",
       "      <td>BANGRES19DEL01</td>\n",
       "      <td>23</td>\n",
       "      <td>4.4</td>\n",
       "      <td>12.914264</td>\n",
       "      <td>77.678400</td>\n",
       "      <td>12.924264</td>\n",
       "      <td>77.688400</td>\n",
       "      <td>Drinks</td>\n",
       "      <td>motorcycle</td>\n",
       "      <td>26</td>\n",
       "    </tr>\n",
       "    <tr>\n",
       "      <th>3</th>\n",
       "      <td>7A6A</td>\n",
       "      <td>COIMBRES13DEL02</td>\n",
       "      <td>38</td>\n",
       "      <td>4.7</td>\n",
       "      <td>11.003669</td>\n",
       "      <td>76.976494</td>\n",
       "      <td>11.053669</td>\n",
       "      <td>77.026494</td>\n",
       "      <td>Buffet</td>\n",
       "      <td>motorcycle</td>\n",
       "      <td>21</td>\n",
       "    </tr>\n",
       "    <tr>\n",
       "      <th>4</th>\n",
       "      <td>70A2</td>\n",
       "      <td>CHENRES12DEL01</td>\n",
       "      <td>32</td>\n",
       "      <td>4.6</td>\n",
       "      <td>12.972793</td>\n",
       "      <td>80.249982</td>\n",
       "      <td>13.012793</td>\n",
       "      <td>80.289982</td>\n",
       "      <td>Snack</td>\n",
       "      <td>scooter</td>\n",
       "      <td>30</td>\n",
       "    </tr>\n",
       "    <tr>\n",
       "      <th>5</th>\n",
       "      <td>9BB4</td>\n",
       "      <td>HYDRES09DEL03</td>\n",
       "      <td>22</td>\n",
       "      <td>4.8</td>\n",
       "      <td>17.431668</td>\n",
       "      <td>78.408321</td>\n",
       "      <td>17.461668</td>\n",
       "      <td>78.438321</td>\n",
       "      <td>Buffet</td>\n",
       "      <td>motorcycle</td>\n",
       "      <td>26</td>\n",
       "    </tr>\n",
       "    <tr>\n",
       "      <th>6</th>\n",
       "      <td>95B4</td>\n",
       "      <td>RANCHIRES15DEL01</td>\n",
       "      <td>33</td>\n",
       "      <td>4.7</td>\n",
       "      <td>23.369746</td>\n",
       "      <td>85.339820</td>\n",
       "      <td>23.479746</td>\n",
       "      <td>85.449820</td>\n",
       "      <td>Meal</td>\n",
       "      <td>scooter</td>\n",
       "      <td>40</td>\n",
       "    </tr>\n",
       "    <tr>\n",
       "      <th>7</th>\n",
       "      <td>9EB2</td>\n",
       "      <td>MYSRES15DEL02</td>\n",
       "      <td>35</td>\n",
       "      <td>4.6</td>\n",
       "      <td>12.352058</td>\n",
       "      <td>76.606650</td>\n",
       "      <td>12.482058</td>\n",
       "      <td>76.736650</td>\n",
       "      <td>Meal</td>\n",
       "      <td>motorcycle</td>\n",
       "      <td>32</td>\n",
       "    </tr>\n",
       "    <tr>\n",
       "      <th>8</th>\n",
       "      <td>1102</td>\n",
       "      <td>HYDRES05DEL02</td>\n",
       "      <td>22</td>\n",
       "      <td>4.8</td>\n",
       "      <td>17.433809</td>\n",
       "      <td>78.386744</td>\n",
       "      <td>17.563809</td>\n",
       "      <td>78.516744</td>\n",
       "      <td>Buffet</td>\n",
       "      <td>motorcycle</td>\n",
       "      <td>34</td>\n",
       "    </tr>\n",
       "    <tr>\n",
       "      <th>9</th>\n",
       "      <td>CDCD</td>\n",
       "      <td>DEHRES17DEL01</td>\n",
       "      <td>36</td>\n",
       "      <td>4.2</td>\n",
       "      <td>30.327968</td>\n",
       "      <td>78.046106</td>\n",
       "      <td>30.397968</td>\n",
       "      <td>78.116106</td>\n",
       "      <td>Snack</td>\n",
       "      <td>motorcycle</td>\n",
       "      <td>46</td>\n",
       "    </tr>\n",
       "  </tbody>\n",
       "</table>\n",
       "</div>"
      ],
      "text/plain": [
       "     ID Delivery_person_ID  Delivery_person_Age  Delivery_person_Ratings  \\\n",
       "0  4607     INDORES13DEL02                   37                      4.9   \n",
       "1  B379     BANGRES18DEL02                   34                      4.5   \n",
       "2  5D6D     BANGRES19DEL01                   23                      4.4   \n",
       "3  7A6A    COIMBRES13DEL02                   38                      4.7   \n",
       "4  70A2     CHENRES12DEL01                   32                      4.6   \n",
       "5  9BB4      HYDRES09DEL03                   22                      4.8   \n",
       "6  95B4   RANCHIRES15DEL01                   33                      4.7   \n",
       "7  9EB2      MYSRES15DEL02                   35                      4.6   \n",
       "8  1102      HYDRES05DEL02                   22                      4.8   \n",
       "9  CDCD      DEHRES17DEL01                   36                      4.2   \n",
       "\n",
       "   Restaurant_latitude  Restaurant_longitude  Delivery_location_latitude  \\\n",
       "0            22.745049             75.892471                   22.765049   \n",
       "1            12.913041             77.683237                   13.043041   \n",
       "2            12.914264             77.678400                   12.924264   \n",
       "3            11.003669             76.976494                   11.053669   \n",
       "4            12.972793             80.249982                   13.012793   \n",
       "5            17.431668             78.408321                   17.461668   \n",
       "6            23.369746             85.339820                   23.479746   \n",
       "7            12.352058             76.606650                   12.482058   \n",
       "8            17.433809             78.386744                   17.563809   \n",
       "9            30.327968             78.046106                   30.397968   \n",
       "\n",
       "   Delivery_location_longitude Type_of_order Type_of_vehicle  Time_taken(min)  \n",
       "0                    75.912471        Snack      motorcycle                24  \n",
       "1                    77.813237        Snack         scooter                33  \n",
       "2                    77.688400       Drinks      motorcycle                26  \n",
       "3                    77.026494       Buffet      motorcycle                21  \n",
       "4                    80.289982        Snack         scooter                30  \n",
       "5                    78.438321       Buffet      motorcycle                26  \n",
       "6                    85.449820         Meal         scooter                40  \n",
       "7                    76.736650         Meal      motorcycle                32  \n",
       "8                    78.516744       Buffet      motorcycle                34  \n",
       "9                    78.116106        Snack      motorcycle                46  "
      ]
     },
     "execution_count": 2,
     "metadata": {},
     "output_type": "execute_result"
    }
   ],
   "source": [
    "## accessing the datafile\n",
    "Delivery_Records = pd.read_csv(\"deliverytime.txt\")\n",
    "\n",
    "Delivery_Records.head(10)    ### displays the first n rows in the data set"
   ]
  },
  {
   "cell_type": "code",
   "execution_count": 3,
   "id": "6d0e2db9",
   "metadata": {},
   "outputs": [
    {
     "name": "stdout",
     "output_type": "stream",
     "text": [
      "<class 'pandas.core.frame.DataFrame'>\n",
      "RangeIndex: 45593 entries, 0 to 45592\n",
      "Data columns (total 11 columns):\n",
      " #   Column                       Non-Null Count  Dtype  \n",
      "---  ------                       --------------  -----  \n",
      " 0   ID                           45593 non-null  object \n",
      " 1   Delivery_person_ID           45593 non-null  object \n",
      " 2   Delivery_person_Age          45593 non-null  int64  \n",
      " 3   Delivery_person_Ratings      45593 non-null  float64\n",
      " 4   Restaurant_latitude          45593 non-null  float64\n",
      " 5   Restaurant_longitude         45593 non-null  float64\n",
      " 6   Delivery_location_latitude   45593 non-null  float64\n",
      " 7   Delivery_location_longitude  45593 non-null  float64\n",
      " 8   Type_of_order                45593 non-null  object \n",
      " 9   Type_of_vehicle              45593 non-null  object \n",
      " 10  Time_taken(min)              45593 non-null  int64  \n",
      "dtypes: float64(5), int64(2), object(4)\n",
      "memory usage: 3.8+ MB\n"
     ]
    }
   ],
   "source": [
    "Delivery_Records.info()   ##displays the feature/datatype of each column in the table"
   ]
  },
  {
   "cell_type": "code",
   "execution_count": 4,
   "id": "3e962cbd",
   "metadata": {},
   "outputs": [
    {
     "name": "stdout",
     "output_type": "stream",
     "text": [
      "ID                             0\n",
      "Delivery_person_ID             0\n",
      "Delivery_person_Age            0\n",
      "Delivery_person_Ratings        0\n",
      "Restaurant_latitude            0\n",
      "Restaurant_longitude           0\n",
      "Delivery_location_latitude     0\n",
      "Delivery_location_longitude    0\n",
      "Type_of_order                  0\n",
      "Type_of_vehicle                0\n",
      "Time_taken(min)                0\n",
      "dtype: int64\n"
     ]
    }
   ],
   "source": [
    "## checking the dataset for missing entries\n",
    "\n",
    "print(Delivery_Records.isnull().sum())"
   ]
  },
  {
   "cell_type": "code",
   "execution_count": 11,
   "id": "47f2f9d0",
   "metadata": {},
   "outputs": [],
   "source": [
    "## we have no missing entries "
   ]
  },
  {
   "cell_type": "code",
   "execution_count": 5,
   "id": "e35c41c1",
   "metadata": {},
   "outputs": [
    {
     "data": {
      "text/html": [
       "<div>\n",
       "<style scoped>\n",
       "    .dataframe tbody tr th:only-of-type {\n",
       "        vertical-align: middle;\n",
       "    }\n",
       "\n",
       "    .dataframe tbody tr th {\n",
       "        vertical-align: top;\n",
       "    }\n",
       "\n",
       "    .dataframe thead th {\n",
       "        text-align: right;\n",
       "    }\n",
       "</style>\n",
       "<table border=\"1\" class=\"dataframe\">\n",
       "  <thead>\n",
       "    <tr style=\"text-align: right;\">\n",
       "      <th></th>\n",
       "      <th>ID</th>\n",
       "      <th>Delivery_person_ID</th>\n",
       "      <th>Delivery_person_Age</th>\n",
       "      <th>Delivery_person_Ratings</th>\n",
       "      <th>Restaurant_latitude</th>\n",
       "      <th>Restaurant_longitude</th>\n",
       "      <th>Delivery_location_latitude</th>\n",
       "      <th>Delivery_location_longitude</th>\n",
       "      <th>Type_of_order</th>\n",
       "      <th>Type_of_vehicle</th>\n",
       "      <th>Time_taken(min)</th>\n",
       "      <th>Travel_Distance</th>\n",
       "    </tr>\n",
       "  </thead>\n",
       "  <tbody>\n",
       "    <tr>\n",
       "      <th>0</th>\n",
       "      <td>4607</td>\n",
       "      <td>INDORES13DEL02</td>\n",
       "      <td>37</td>\n",
       "      <td>4.9</td>\n",
       "      <td>22.745049</td>\n",
       "      <td>75.892471</td>\n",
       "      <td>22.765049</td>\n",
       "      <td>75.912471</td>\n",
       "      <td>Snack</td>\n",
       "      <td>motorcycle</td>\n",
       "      <td>24</td>\n",
       "      <td>3.025149</td>\n",
       "    </tr>\n",
       "    <tr>\n",
       "      <th>1</th>\n",
       "      <td>B379</td>\n",
       "      <td>BANGRES18DEL02</td>\n",
       "      <td>34</td>\n",
       "      <td>4.5</td>\n",
       "      <td>12.913041</td>\n",
       "      <td>77.683237</td>\n",
       "      <td>13.043041</td>\n",
       "      <td>77.813237</td>\n",
       "      <td>Snack</td>\n",
       "      <td>scooter</td>\n",
       "      <td>33</td>\n",
       "      <td>20.183530</td>\n",
       "    </tr>\n",
       "    <tr>\n",
       "      <th>2</th>\n",
       "      <td>5D6D</td>\n",
       "      <td>BANGRES19DEL01</td>\n",
       "      <td>23</td>\n",
       "      <td>4.4</td>\n",
       "      <td>12.914264</td>\n",
       "      <td>77.678400</td>\n",
       "      <td>12.924264</td>\n",
       "      <td>77.688400</td>\n",
       "      <td>Drinks</td>\n",
       "      <td>motorcycle</td>\n",
       "      <td>26</td>\n",
       "      <td>1.552758</td>\n",
       "    </tr>\n",
       "    <tr>\n",
       "      <th>3</th>\n",
       "      <td>7A6A</td>\n",
       "      <td>COIMBRES13DEL02</td>\n",
       "      <td>38</td>\n",
       "      <td>4.7</td>\n",
       "      <td>11.003669</td>\n",
       "      <td>76.976494</td>\n",
       "      <td>11.053669</td>\n",
       "      <td>77.026494</td>\n",
       "      <td>Buffet</td>\n",
       "      <td>motorcycle</td>\n",
       "      <td>21</td>\n",
       "      <td>7.790401</td>\n",
       "    </tr>\n",
       "    <tr>\n",
       "      <th>4</th>\n",
       "      <td>70A2</td>\n",
       "      <td>CHENRES12DEL01</td>\n",
       "      <td>32</td>\n",
       "      <td>4.6</td>\n",
       "      <td>12.972793</td>\n",
       "      <td>80.249982</td>\n",
       "      <td>13.012793</td>\n",
       "      <td>80.289982</td>\n",
       "      <td>Snack</td>\n",
       "      <td>scooter</td>\n",
       "      <td>30</td>\n",
       "      <td>6.210138</td>\n",
       "    </tr>\n",
       "  </tbody>\n",
       "</table>\n",
       "</div>"
      ],
      "text/plain": [
       "     ID Delivery_person_ID  Delivery_person_Age  Delivery_person_Ratings  \\\n",
       "0  4607     INDORES13DEL02                   37                      4.9   \n",
       "1  B379     BANGRES18DEL02                   34                      4.5   \n",
       "2  5D6D     BANGRES19DEL01                   23                      4.4   \n",
       "3  7A6A    COIMBRES13DEL02                   38                      4.7   \n",
       "4  70A2     CHENRES12DEL01                   32                      4.6   \n",
       "\n",
       "   Restaurant_latitude  Restaurant_longitude  Delivery_location_latitude  \\\n",
       "0            22.745049             75.892471                   22.765049   \n",
       "1            12.913041             77.683237                   13.043041   \n",
       "2            12.914264             77.678400                   12.924264   \n",
       "3            11.003669             76.976494                   11.053669   \n",
       "4            12.972793             80.249982                   13.012793   \n",
       "\n",
       "   Delivery_location_longitude Type_of_order Type_of_vehicle  Time_taken(min)  \\\n",
       "0                    75.912471        Snack      motorcycle                24   \n",
       "1                    77.813237        Snack         scooter                33   \n",
       "2                    77.688400       Drinks      motorcycle                26   \n",
       "3                    77.026494       Buffet      motorcycle                21   \n",
       "4                    80.289982        Snack         scooter                30   \n",
       "\n",
       "   Travel_Distance  \n",
       "0         3.025149  \n",
       "1        20.183530  \n",
       "2         1.552758  \n",
       "3         7.790401  \n",
       "4         6.210138  "
      ]
     },
     "execution_count": 5,
     "metadata": {},
     "output_type": "execute_result"
    }
   ],
   "source": [
    "### calculating distance between restaurant and delivery point\n",
    "### formula used= acos(sin(lat1)*sin(lat2)+cos(lat1)*cos(lat2)*cos(lon2-lon1))*6371\n",
    "pi = mt.pi\n",
    "\n",
    "Delivery_Records['Travel_Distance'] = 0\n",
    "\n",
    "Delivery_Records['Travel_Distance'] = np.arccos(np.sin(Delivery_Records['Restaurant_latitude']*pi/180)*np.sin(Delivery_Records['Delivery_location_latitude']*pi/180)+np.cos(Delivery_Records['Restaurant_latitude']*pi/180)*np.cos(Delivery_Records['Delivery_location_latitude']*pi/180)*np.cos((Delivery_Records['Delivery_location_longitude']-Delivery_Records['Restaurant_longitude'])*pi/180))*6371\n",
    "\n",
    "Delivery_Records.head()\n",
    "\n"
   ]
  },
  {
   "cell_type": "code",
   "execution_count": 6,
   "id": "e7a4b320",
   "metadata": {},
   "outputs": [
    {
     "data": {
      "text/html": [
       "<div>\n",
       "<style scoped>\n",
       "    .dataframe tbody tr th:only-of-type {\n",
       "        vertical-align: middle;\n",
       "    }\n",
       "\n",
       "    .dataframe tbody tr th {\n",
       "        vertical-align: top;\n",
       "    }\n",
       "\n",
       "    .dataframe thead th {\n",
       "        text-align: right;\n",
       "    }\n",
       "</style>\n",
       "<table border=\"1\" class=\"dataframe\">\n",
       "  <thead>\n",
       "    <tr style=\"text-align: right;\">\n",
       "      <th></th>\n",
       "      <th>Delivery_person_Age</th>\n",
       "      <th>Delivery_person_Ratings</th>\n",
       "      <th>Time_taken(min)</th>\n",
       "      <th>Travel_Distance</th>\n",
       "    </tr>\n",
       "  </thead>\n",
       "  <tbody>\n",
       "    <tr>\n",
       "      <th>count</th>\n",
       "      <td>45593.000000</td>\n",
       "      <td>45593.000000</td>\n",
       "      <td>45593.000000</td>\n",
       "      <td>45593.000000</td>\n",
       "    </tr>\n",
       "    <tr>\n",
       "      <th>mean</th>\n",
       "      <td>29.544075</td>\n",
       "      <td>4.632367</td>\n",
       "      <td>26.294607</td>\n",
       "      <td>99.303911</td>\n",
       "    </tr>\n",
       "    <tr>\n",
       "      <th>std</th>\n",
       "      <td>5.696793</td>\n",
       "      <td>0.327708</td>\n",
       "      <td>9.383806</td>\n",
       "      <td>1099.731281</td>\n",
       "    </tr>\n",
       "    <tr>\n",
       "      <th>min</th>\n",
       "      <td>15.000000</td>\n",
       "      <td>1.000000</td>\n",
       "      <td>10.000000</td>\n",
       "      <td>1.465067</td>\n",
       "    </tr>\n",
       "    <tr>\n",
       "      <th>25%</th>\n",
       "      <td>25.000000</td>\n",
       "      <td>4.600000</td>\n",
       "      <td>19.000000</td>\n",
       "      <td>4.663493</td>\n",
       "    </tr>\n",
       "    <tr>\n",
       "      <th>50%</th>\n",
       "      <td>29.000000</td>\n",
       "      <td>4.700000</td>\n",
       "      <td>26.000000</td>\n",
       "      <td>9.264281</td>\n",
       "    </tr>\n",
       "    <tr>\n",
       "      <th>75%</th>\n",
       "      <td>34.000000</td>\n",
       "      <td>4.800000</td>\n",
       "      <td>32.000000</td>\n",
       "      <td>13.763977</td>\n",
       "    </tr>\n",
       "    <tr>\n",
       "      <th>max</th>\n",
       "      <td>50.000000</td>\n",
       "      <td>6.000000</td>\n",
       "      <td>54.000000</td>\n",
       "      <td>19692.674606</td>\n",
       "    </tr>\n",
       "  </tbody>\n",
       "</table>\n",
       "</div>"
      ],
      "text/plain": [
       "       Delivery_person_Age  Delivery_person_Ratings  Time_taken(min)  \\\n",
       "count         45593.000000             45593.000000     45593.000000   \n",
       "mean             29.544075                 4.632367        26.294607   \n",
       "std               5.696793                 0.327708         9.383806   \n",
       "min              15.000000                 1.000000        10.000000   \n",
       "25%              25.000000                 4.600000        19.000000   \n",
       "50%              29.000000                 4.700000        26.000000   \n",
       "75%              34.000000                 4.800000        32.000000   \n",
       "max              50.000000                 6.000000        54.000000   \n",
       "\n",
       "       Travel_Distance  \n",
       "count     45593.000000  \n",
       "mean         99.303911  \n",
       "std        1099.731281  \n",
       "min           1.465067  \n",
       "25%           4.663493  \n",
       "50%           9.264281  \n",
       "75%          13.763977  \n",
       "max       19692.674606  "
      ]
     },
     "execution_count": 6,
     "metadata": {},
     "output_type": "execute_result"
    }
   ],
   "source": [
    "## firstly we do a basic summarry of Age, ratings, time,\n",
    "\n",
    "## distance, order type and vehicle type\n",
    "\n",
    "## as those will be the main variables\n",
    "\n",
    "Delivery_Records[['Delivery_person_Age','Delivery_person_Ratings','Time_taken(min)','Travel_Distance']].describe(include=\"all\")"
   ]
  },
  {
   "cell_type": "code",
   "execution_count": 7,
   "id": "eeea93dc",
   "metadata": {},
   "outputs": [
    {
     "name": "stdout",
     "output_type": "stream",
     "text": [
      "Snack      11533\n",
      "Meal       11458\n",
      "Drinks     11322\n",
      "Buffet     11280\n",
      "Name: Type_of_order, dtype: int64\n",
      "motorcycle           26435\n",
      "scooter              15276\n",
      "electric_scooter      3814\n",
      "bicycle                 68\n",
      "Name: Type_of_vehicle, dtype: int64\n"
     ]
    }
   ],
   "source": [
    "### for non numeric, we can just count number unique occurences\n",
    "\n",
    "### this allows us see which kind of orders are most frequent, and the type of vehicles used by most couriers\n",
    "\n",
    "print(Delivery_Records['Type_of_order'].value_counts())\n",
    "\n",
    "print(Delivery_Records['Type_of_vehicle'].value_counts())"
   ]
  },
  {
   "cell_type": "code",
   "execution_count": 21,
   "id": "947a6a86",
   "metadata": {},
   "outputs": [],
   "source": [
    "## here we do a series of simple plots to visualise the data\n",
    "## and compare various variables with respect to delivery times to find out which ones have the most effect\n",
    "## also a plot of ratings vs distance and any other that comes to mind just for fun\n",
    "## we will also calculate correlation coefficient for each\n"
   ]
  },
  {
   "cell_type": "code",
   "execution_count": 9,
   "id": "54f3f956",
   "metadata": {},
   "outputs": [
    {
     "name": "stdout",
     "output_type": "stream",
     "text": [
      "[[ 1.         -0.00250807]\n",
      " [-0.00250807  1.        ]]\n"
     ]
    },
    {
     "data": {
      "image/png": "[encoded data removed]",
      "text/plain": [
       "<Figure size 432x288 with 1 Axes>"
      ]
     },
     "metadata": {
      "needs_background": "light"
     },
     "output_type": "display_data"
    }
   ],
   "source": [
    "## distance vs delivery time\n",
    "## you can also use seaborn to plot, it has an automatic regression plot function\n",
    "## other libraries like matplotlib can be used\n",
    "\n",
    "sb.regplot(x= 'Travel_Distance', y= 'Time_taken(min)', data = Delivery_Records).set_title('Time_taken vs Travel_Distance')\n",
    "\n",
    "Time_Distance = np.corrcoef(Delivery_Records['Travel_Distance'], Delivery_Records['Time_taken(min)'])\n",
    "\n",
    "print(Time_Distance)\n",
    "\n",
    "## from the plot and correlation coefficient it can be easily deduced that very weak linear relationship \n",
    "## exists between delivery time and distance"
   ]
  },
  {
   "cell_type": "code",
   "execution_count": 10,
   "id": "7ab374f3",
   "metadata": {},
   "outputs": [
    {
     "name": "stdout",
     "output_type": "stream",
     "text": [
      "[[1.         0.29270786]\n",
      " [0.29270786 1.        ]]\n"
     ]
    },
    {
     "data": {
      "image/png": "[encoded data removed]",
      "text/plain": [
       "<Figure size 432x288 with 1 Axes>"
      ]
     },
     "metadata": {
      "needs_background": "light"
     },
     "output_type": "display_data"
    }
   ],
   "source": [
    "## delivery_time vs driver age\n",
    "sb.regplot(x= 'Delivery_person_Age', y='Time_taken(min)', data=Delivery_Records).set_title('Time_taken vs Delivery_person Age')\n",
    "\n",
    "\n",
    "Time_Age = np.corrcoef(Delivery_Records['Delivery_person_Age'], Delivery_Records['Time_taken(min)'])\n",
    "\n",
    "print(Time_Age)\n",
    "\n",
    "## a relatively strong positive relationship between delivery time and delivery person age"
   ]
  },
  {
   "cell_type": "code",
   "execution_count": 11,
   "id": "b425b209",
   "metadata": {},
   "outputs": [
    {
     "name": "stdout",
     "output_type": "stream",
     "text": [
      "[[ 1.         -0.33110272]\n",
      " [-0.33110272  1.        ]]\n"
     ]
    },
    {
     "data": {
      "image/png": "[encoded data removed]",
      "text/plain": [
       "<Figure size 432x288 with 1 Axes>"
      ]
     },
     "metadata": {
      "needs_background": "light"
     },
     "output_type": "display_data"
    }
   ],
   "source": [
    "### delivery time vs ratings\n",
    "\n",
    "sb.regplot(x='Delivery_person_Ratings', y='Time_taken(min)', data=Delivery_Records).set_title('Time_taken vs Delivery_person_Ratings')\n",
    "\n",
    "\n",
    "Time_Ratings = np.corrcoef(Delivery_Records['Delivery_person_Ratings'], Delivery_Records['Time_taken(min)'])\n",
    "\n",
    "print(Time_Ratings)\n",
    "\n",
    "##negative linear relationship"
   ]
  },
  {
   "cell_type": "code",
   "execution_count": 12,
   "id": "eb8007d2",
   "metadata": {},
   "outputs": [
    {
     "data": {
      "text/plain": [
       "<AxesSubplot:>"
      ]
     },
     "execution_count": 12,
     "metadata": {},
     "output_type": "execute_result"
    },
    {
     "data": {
      "image/png": "[encoded data removed]",
      "text/plain": [
       "<Figure size 432x288 with 1 Axes>"
      ]
     },
     "metadata": {
      "needs_background": "light"
     },
     "output_type": "display_data"
    }
   ],
   "source": [
    "### Vehicle type vs delivery time\n",
    "\n",
    "time_vehicle = Delivery_Records[['Type_of_vehicle', 'Time_taken(min)']]\n",
    "\n",
    "time_vehicle_sum = time_vehicle.groupby(['Type_of_vehicle']).mean()\n",
    "\n",
    "time_vehicle_sum.transpose().plot.bar()\n",
    "\n",
    "## the means of the vehicle types do not differ significantly, \n",
    "## hence we can ignore vehicle type influence in our prediction model"
   ]
  },
  {
   "cell_type": "code",
   "execution_count": 13,
   "id": "30942c5a",
   "metadata": {},
   "outputs": [
    {
     "data": {
      "text/plain": [
       "<AxesSubplot:>"
      ]
     },
     "execution_count": 13,
     "metadata": {},
     "output_type": "execute_result"
    },
    {
     "data": {
      "image/png": "[encoded data removed]",
      "text/plain": [
       "<Figure size 432x288 with 1 Axes>"
      ]
     },
     "metadata": {
      "needs_background": "light"
     },
     "output_type": "display_data"
    }
   ],
   "source": [
    "### time_taken vs order_type\n",
    "\n",
    "time_order = Delivery_Records[['Type_of_order', 'Time_taken(min)']]\n",
    "\n",
    "time_order_sum = time_order.groupby(['Type_of_order']).mean()\n",
    "\n",
    "time_order_sum.transpose().plot.bar()\n",
    "\n",
    "## the delivery time for order types are also similar\n",
    "## hence we can ignore vehicle type influence in our prediction model"
   ]
  },
  {
   "cell_type": "code",
   "execution_count": 14,
   "id": "6f3d8d8f",
   "metadata": {},
   "outputs": [
    {
     "data": {
      "text/plain": [
       "Text(0.5, 1.0, 'Vehicle_Type Numbers')"
      ]
     },
     "execution_count": 14,
     "metadata": {},
     "output_type": "execute_result"
    },
    {
     "data": {
      "image/png": "[encoded data removed]",
      "text/plain": [
       "<Figure size 432x288 with 1 Axes>"
      ]
     },
     "metadata": {
      "needs_background": "light"
     },
     "output_type": "display_data"
    }
   ],
   "source": [
    "## other fun visualization, pie and bar charts to show most common type of vehicle and type of order\n",
    "\n",
    "Delivery_Records['Type_of_vehicle'].value_counts().plot(kind='bar').set_title('Vehicle_Type Numbers')\n"
   ]
  },
  {
   "cell_type": "code",
   "execution_count": 15,
   "id": "f622b239",
   "metadata": {},
   "outputs": [
    {
     "data": {
      "text/plain": [
       "Text(0.5, 1.0, 'Order_Type Numbers')"
      ]
     },
     "execution_count": 15,
     "metadata": {},
     "output_type": "execute_result"
    },
    {
     "data": {
      "image/png": "[encoded data removed]",
      "text/plain": [
       "<Figure size 432x288 with 1 Axes>"
      ]
     },
     "metadata": {
      "needs_background": "light"
     },
     "output_type": "display_data"
    }
   ],
   "source": [
    "## order types\n",
    "\n",
    "\n",
    "Delivery_Records['Type_of_order'].value_counts().plot(kind='bar').set_title('Order_Type Numbers')\n"
   ]
  },
  {
   "cell_type": "code",
   "execution_count": 16,
   "id": "d9a3dbed",
   "metadata": {},
   "outputs": [],
   "source": [
    "## machine learning model\n",
    "\n",
    "from sklearn.model_selection import train_test_split\n",
    "\n",
    "y = np.array(Delivery_Records[['Time_taken(min)']])\n",
    "\n",
    "x = np.array(Delivery_Records[['Travel_Distance', 'Delivery_person_Age', 'Delivery_person_Ratings']])\n",
    "\n",
    "\n"
   ]
  },
  {
   "cell_type": "code",
   "execution_count": 17,
   "id": "f27dac6d",
   "metadata": {},
   "outputs": [],
   "source": [
    "x_train, x_test, y_train, y_test = train_test_split(x, y, test_size=0.10, random_state=42)"
   ]
  },
  {
   "cell_type": "code",
   "execution_count": 18,
   "id": "98d34c12",
   "metadata": {},
   "outputs": [],
   "source": [
    "from sklearn.linear_model import LinearRegression"
   ]
  },
  {
   "cell_type": "code",
   "execution_count": 22,
   "id": "2355116f",
   "metadata": {},
   "outputs": [
    {
     "data": {
      "text/plain": [
       "LinearRegression()"
      ]
     },
     "execution_count": 22,
     "metadata": {},
     "output_type": "execute_result"
    }
   ],
   "source": [
    "## using a multiple linear regression model\n",
    "\n",
    "LR = LinearRegression()\n",
    "LR.fit(x_train, y_train)\n"
   ]
  },
  {
   "cell_type": "code",
   "execution_count": 23,
   "id": "2fdd0259",
   "metadata": {},
   "outputs": [],
   "source": [
    "y_prediction = LR.predict(x)"
   ]
  },
  {
   "cell_type": "code",
   "execution_count": 24,
   "id": "d72876f9",
   "metadata": {},
   "outputs": [
    {
     "name": "stdout",
     "output_type": "stream",
     "text": [
      "0.18312681337480374\n",
      "71.92885879863063\n"
     ]
    }
   ],
   "source": [
    "## checking our model accuracy\n",
    "\n",
    "from sklearn.metrics import r2_score\n",
    "\n",
    "from sklearn.metrics import mean_squared_error\n",
    "\n",
    "accuracy_score = r2_score(y, y_prediction)\n",
    "\n",
    "print(accuracy_score)\n",
    "\n",
    "\n",
    "\n",
    "mean_sq= mean_squared_error(y, y_prediction)\n",
    "\n",
    "print(mean_sq)\n",
    "\n",
    "## a positive r2 score indicates the model accuracy, the closer it is to 1, it indicates how well the predictions fit the original data"
   ]
  },
  {
   "cell_type": "code",
   "execution_count": 29,
   "id": "41bf64ca",
   "metadata": {},
   "outputs": [
    {
     "name": "stdout",
     "output_type": "stream",
     "text": [
      "Enter driver age: 37\n",
      "Enter driver rating: 4.7\n",
      "Enter distance the driver has to travel: 3.01\n",
      "Your order will arrive in about  [[29.63706601]] minutes\n"
     ]
    }
   ],
   "source": [
    "## this section allows you to enter your own values for the model to predict\n",
    "\n",
    "age = int (input(\"Enter driver age: \"))\n",
    "\n",
    "rating = float (input(\"Enter driver rating: \"))\n",
    "\n",
    "distance = float (input(\"Enter distance the driver has to travel: \"))\n",
    "\n",
    "x_vals = np.array([[age, rating, distance]])\n",
    "\n",
    "y_pred = LR.predict(x_vals)\n",
    "\n",
    "print(\"Your order will arrive in about \",y_pred, \"minutes\")"
   ]
  }
 ],
 "metadata": {
  "kernelspec": {
   "display_name": "Python 3 (ipykernel)",
   "language": "python",
   "name": "python3"
  },
  "language_info": {
   "codemirror_mode": {
    "name": "ipython",
    "version": 3
   },
   "file_extension": ".py",
   "mimetype": "text/x-python",
   "name": "python",
   "nbconvert_exporter": "python",
   "pygments_lexer": "ipython3",
   "version": "3.10.1"
  }
 },
 "nbformat": 4,
 "nbformat_minor": 5
}
